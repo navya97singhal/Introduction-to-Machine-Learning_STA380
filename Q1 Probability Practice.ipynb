{
 "cells": [
  {
   "cell_type": "markdown",
   "id": "15e9618f-32c9-40e0-98cd-9383f76908c3",
   "metadata": {},
   "source": [
    "# Probability practice"
   ]
  },
  {
   "cell_type": "markdown",
   "id": "e2a3b7d8-938a-4eb6-88ed-35f211da13c1",
   "metadata": {},
   "source": [
    "### Part A"
   ]
  },
  {
   "cell_type": "markdown",
   "id": "8c04fc2a-03ea-451e-9d2c-393dc0214364",
   "metadata": {},
   "source": [
    "Visitors to your website are asked to answer a single survey question before they get access to the content on the page. Among all of the users, there are two categories: Random Clicker (RC), and Truthful Clicker (TC). There are two possible answers to the survey: yes and no. Random clickers would click either one with equal probability. You are also giving the information that the expected fraction of random clickers is 0.3. After a trial period, you get the following survey results: 65% said Yes and 35% said No. What fraction of people who are truthful clickers answered yes? Hint: use the rule of total probability."
   ]
  },
  {
   "cell_type": "markdown",
   "id": "a5255d3e-451a-4635-984c-66b24bd82a79",
   "metadata": {},
   "source": [
    "$$\n",
    "\\begin{align*}\n",
    "P(\\text{RC}) &= 0.3 \\\\\n",
    "P(\\text{TC}) &= 0.7 \\\\\n",
    "P(\\text{Yes} \\mid \\text{RC}) &= 0.5 \\\\\n",
    "P(\\text{No} \\mid \\text{RC}) &= 0.5 \\\\\n",
    "P(\\text{Yes}) &= 0.65 \\\\\n",
    "P(\\text{No}) &= 0.35 \\\\\n",
    "P(\\text{Yes}) &= P(\\text{Yes} \\mid \\text{RC}) \\cdot P(\\text{RC}) + P(\\text{Yes} \\mid \\text{TC}) \\cdot P(\\text{TC}) \\\\\n",
    "0.65 &= 0.5 \\cdot 0.3 + P(\\text{Yes} \\mid \\text{TC}) \\cdot 0.7 \\\\\n",
    "P(\\text{Yes} \\mid \\text{TC}) &= \\frac{0.65 - 0.5 \\cdot 0.3}{0.7}\n",
    "\\end{align*}\n",
    "$$\n"
   ]
  },
  {
   "cell_type": "markdown",
   "id": "44385044-df4c-4af3-8522-0873cf4c032f",
   "metadata": {},
   "source": [
    "\\begin{aligned}\n",
    "P(\\text{RC}) &= 0.3 \\\\\n",
    "P(\\text{TC}) &= 0.7 \\\\\n",
    "P(\\text{Yes} \\mid \\text{RC}) &= 0.5 \\\\\n",
    "P(\\text{No} \\mid \\text{RC}) &= 0.5 \\\\\n",
    "P(\\text{Yes}) &= 0.65 \\\\\n",
    "P(\\text{No}) &= 0.35 \\\\\n",
    "P(\\text{Yes} \\mid \\text{TC}) &= \\frac{0.65 - 0.5 \\cdot 0.3}{0.7} \\\\\n",
    "&= \\frac{0.50}{0.7} \\approx 0.7143\n",
    "\\end{aligned}"
   ]
  },
  {
   "cell_type": "code",
   "execution_count": 13,
   "id": "0ac002ab-2ca9-4943-8f2a-e30106aeffc2",
   "metadata": {},
   "outputs": [
    {
     "data": {
      "text/plain": [
       "0.7142857142857143"
      ]
     },
     "execution_count": 13,
     "metadata": {},
     "output_type": "execute_result"
    }
   ],
   "source": [
    "P_Yes_given_TC = (0.65 - 0.5*0.3)/0.7\n",
    "P_Yes_given_TC "
   ]
  },
  {
   "cell_type": "markdown",
   "id": "7958ca1f-f004-4f24-a73a-11fd4bef0ab7",
   "metadata": {},
   "source": [
    "### Part B. Imagine a medical test for a disease with the following two attributes:"
   ]
  },
  {
   "cell_type": "markdown",
   "id": "54e68371-8d8c-492f-9e94-51af8ef433c9",
   "metadata": {},
   "source": [
    "The sensitivity is about 0.993. That is, if someone has the disease, there is a probability of 0.993 that they will test positive. The specificity is about 0.9999. This means that if someone doesn't have the disease, there is probability of 0.9999 that they will test negative. In the general population, incidence of the disease is reasonably rare: about 0.0025% of all people have it (or 0.000025 as a decimal probability). Suppose someone tests positive. What is the probability that they have the disease?"
   ]
  },
  {
   "cell_type": "markdown",
   "id": "b4039164-7269-4774-983c-11b02cc98a32",
   "metadata": {},
   "source": [
    "\\begin{aligned}\n",
    "P(\\text{testPos} \\mid \\text{HaveDis}) &= 0.993 \\\\\n",
    "P(\\text{testNeg} \\mid \\text{NoDis}) &= 0.9999 \\\\\n",
    "P(\\text{HaveDis}) &= 0.000025 \\\\\n",
    "P(\\text{NoDis}) &= 1 - P(\\text{HaveDis}) = 1 - 0.000025 = 0.999975 \\\\\n",
    "\\\\\n",
    "P(\\text{testPos}) &= P(\\text{testPos} \\mid \\text{HaveDis}) \\cdot P(\\text{HaveDis}) + P(\\text{testPos} \\mid \\text{NoDis}) \\cdot P(\\text{NoDis}) \\\\\n",
    "P(\\text{testPos}) &= 0.993 \\cdot 0.000025 + (1 - 0.9999) \\cdot (1 - 0.000025) \\\\\n",
    "P(\\text{testPos}) &= 0.000024825 + 0.0000999975 = 0.0001248225 \\\\\n",
    "\\\\\n",
    "P(\\text{HaveDis} \\mid \\text{testPos}) &= \\frac{P(\\text{testPos} \\mid \\text{HaveDis}) \\cdot P(\\text{HaveDis})}{P(\\text{testPos})} \\\\\n",
    "P(\\text{HaveDis} \\mid \\text{testPos}) &= \\frac{0.993 \\cdot 0.000025}{0.0001248225} = \\frac{0.000024825}{0.0001248225} \\approx 0.199\n",
    "\\end{aligned}"
   ]
  }
 ],
 "metadata": {
  "kernelspec": {
   "display_name": "Python 3 (ipykernel)",
   "language": "python",
   "name": "python3"
  },
  "language_info": {
   "codemirror_mode": {
    "name": "ipython",
    "version": 3
   },
   "file_extension": ".py",
   "mimetype": "text/x-python",
   "name": "python",
   "nbconvert_exporter": "python",
   "pygments_lexer": "ipython3",
   "version": "3.12.4"
  }
 },
 "nbformat": 4,
 "nbformat_minor": 5
}
